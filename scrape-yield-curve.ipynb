{
 "cells": [
  {
   "cell_type": "markdown",
   "metadata": {},
   "source": [
    "# Treasury Yield Curve"
   ]
  },
  {
   "cell_type": "code",
   "execution_count": null,
   "metadata": {},
   "outputs": [],
   "source": []
  },
  {
   "cell_type": "code",
   "execution_count": 1,
   "metadata": {},
   "outputs": [
    {
     "name": "stdout",
     "output_type": "stream",
     "text": [
      "Seaborn version:  0.11.1\n"
     ]
    }
   ],
   "source": [
    "import pandas as pd\n",
    "\n",
    "pd.set_option(\"display.max_columns\", 999)\n",
    "\n",
    "%matplotlib inline\n",
    "\n",
    "import matplotlib\n",
    "import matplotlib.pyplot as plt\n",
    "import matplotlib.dates as md\n",
    "\n",
    "import seaborn as sns\n",
    "\n",
    "print('Seaborn version: ', sns.__version__)"
   ]
  },
  {
   "cell_type": "code",
   "execution_count": null,
   "metadata": {},
   "outputs": [],
   "source": []
  },
  {
   "cell_type": "code",
   "execution_count": 2,
   "metadata": {},
   "outputs": [
    {
     "name": "stdout",
     "output_type": "stream",
     "text": [
      "Dataframe shape: (249, 13) \n",
      "\n",
      "Dataframe columns: Index(['Date', '1 mo', '2 mo', '3 mo', '6 mo', '1 yr', '2 yr', '3 yr', '5 yr',\n",
      "       '7 yr', '10 yr', '20 yr', '30 yr'],\n",
      "      dtype='object') \n",
      "\n",
      "CPU times: user 368 ms, sys: 48 ms, total: 416 ms\n",
      "Wall time: 2.14 s\n"
     ]
    },
    {
     "data": {
      "text/html": [
       "<div>\n",
       "<style scoped>\n",
       "    .dataframe tbody tr th:only-of-type {\n",
       "        vertical-align: middle;\n",
       "    }\n",
       "\n",
       "    .dataframe tbody tr th {\n",
       "        vertical-align: top;\n",
       "    }\n",
       "\n",
       "    .dataframe thead th {\n",
       "        text-align: right;\n",
       "    }\n",
       "</style>\n",
       "<table border=\"1\" class=\"dataframe\">\n",
       "  <thead>\n",
       "    <tr style=\"text-align: right;\">\n",
       "      <th></th>\n",
       "      <th>Date</th>\n",
       "      <th>1 mo</th>\n",
       "      <th>2 mo</th>\n",
       "      <th>3 mo</th>\n",
       "      <th>6 mo</th>\n",
       "      <th>1 yr</th>\n",
       "      <th>2 yr</th>\n",
       "      <th>3 yr</th>\n",
       "      <th>5 yr</th>\n",
       "      <th>7 yr</th>\n",
       "      <th>10 yr</th>\n",
       "      <th>20 yr</th>\n",
       "      <th>30 yr</th>\n",
       "    </tr>\n",
       "  </thead>\n",
       "  <tbody>\n",
       "    <tr>\n",
       "      <th>0</th>\n",
       "      <td>2018-01-02</td>\n",
       "      <td>1.29</td>\n",
       "      <td>NaN</td>\n",
       "      <td>1.44</td>\n",
       "      <td>1.61</td>\n",
       "      <td>1.83</td>\n",
       "      <td>1.92</td>\n",
       "      <td>2.01</td>\n",
       "      <td>2.25</td>\n",
       "      <td>2.38</td>\n",
       "      <td>2.46</td>\n",
       "      <td>2.64</td>\n",
       "      <td>2.81</td>\n",
       "    </tr>\n",
       "    <tr>\n",
       "      <th>1</th>\n",
       "      <td>2018-01-03</td>\n",
       "      <td>1.29</td>\n",
       "      <td>NaN</td>\n",
       "      <td>1.41</td>\n",
       "      <td>1.59</td>\n",
       "      <td>1.81</td>\n",
       "      <td>1.94</td>\n",
       "      <td>2.02</td>\n",
       "      <td>2.25</td>\n",
       "      <td>2.37</td>\n",
       "      <td>2.44</td>\n",
       "      <td>2.62</td>\n",
       "      <td>2.78</td>\n",
       "    </tr>\n",
       "    <tr>\n",
       "      <th>2</th>\n",
       "      <td>2018-01-04</td>\n",
       "      <td>1.28</td>\n",
       "      <td>NaN</td>\n",
       "      <td>1.41</td>\n",
       "      <td>1.60</td>\n",
       "      <td>1.82</td>\n",
       "      <td>1.96</td>\n",
       "      <td>2.05</td>\n",
       "      <td>2.27</td>\n",
       "      <td>2.38</td>\n",
       "      <td>2.46</td>\n",
       "      <td>2.62</td>\n",
       "      <td>2.79</td>\n",
       "    </tr>\n",
       "    <tr>\n",
       "      <th>3</th>\n",
       "      <td>2018-01-05</td>\n",
       "      <td>1.27</td>\n",
       "      <td>NaN</td>\n",
       "      <td>1.39</td>\n",
       "      <td>1.58</td>\n",
       "      <td>1.80</td>\n",
       "      <td>1.96</td>\n",
       "      <td>2.06</td>\n",
       "      <td>2.29</td>\n",
       "      <td>2.40</td>\n",
       "      <td>2.47</td>\n",
       "      <td>2.64</td>\n",
       "      <td>2.81</td>\n",
       "    </tr>\n",
       "    <tr>\n",
       "      <th>4</th>\n",
       "      <td>2018-01-08</td>\n",
       "      <td>1.30</td>\n",
       "      <td>NaN</td>\n",
       "      <td>1.45</td>\n",
       "      <td>1.60</td>\n",
       "      <td>1.79</td>\n",
       "      <td>1.96</td>\n",
       "      <td>2.07</td>\n",
       "      <td>2.29</td>\n",
       "      <td>2.41</td>\n",
       "      <td>2.49</td>\n",
       "      <td>2.65</td>\n",
       "      <td>2.81</td>\n",
       "    </tr>\n",
       "  </tbody>\n",
       "</table>\n",
       "</div>"
      ],
      "text/plain": [
       "        Date  1 mo  2 mo  3 mo  6 mo  1 yr  2 yr  3 yr  5 yr  7 yr  10 yr  \\\n",
       "0 2018-01-02  1.29   NaN  1.44  1.61  1.83  1.92  2.01  2.25  2.38   2.46   \n",
       "1 2018-01-03  1.29   NaN  1.41  1.59  1.81  1.94  2.02  2.25  2.37   2.44   \n",
       "2 2018-01-04  1.28   NaN  1.41  1.60  1.82  1.96  2.05  2.27  2.38   2.46   \n",
       "3 2018-01-05  1.27   NaN  1.39  1.58  1.80  1.96  2.06  2.29  2.40   2.47   \n",
       "4 2018-01-08  1.30   NaN  1.45  1.60  1.79  1.96  2.07  2.29  2.41   2.49   \n",
       "\n",
       "   20 yr  30 yr  \n",
       "0   2.64   2.81  \n",
       "1   2.62   2.78  \n",
       "2   2.62   2.79  \n",
       "3   2.64   2.81  \n",
       "4   2.65   2.81  "
      ]
     },
     "execution_count": 2,
     "metadata": {},
     "output_type": "execute_result"
    }
   ],
   "source": [
    "%%time\n",
    "\n",
    "# Scrape treasury yield curve\n",
    "str_year = '2018'\n",
    "str_yield = f'https://www.treasury.gov/resource-center/data-chart-center/interest-rates/Pages/TextView.aspx?data=yieldYear&year={str_year}'    # Year\n",
    "df_yield_curve = pd.read_html(str_yield)[1]\n",
    "\n",
    "# convert date from str\n",
    "df_yield_curve['Date'] = pd.to_datetime(df_yield_curve['Date'], format = '%m/%d/%y')\n",
    "\n",
    "print(f'Dataframe shape: {df_yield_curve.shape} \\n')\n",
    "print(f'Dataframe columns: {df_yield_curve.columns} \\n')\n",
    "\n",
    "df_yield_curve.head()"
   ]
  },
  {
   "cell_type": "code",
   "execution_count": null,
   "metadata": {},
   "outputs": [],
   "source": []
  },
  {
   "cell_type": "code",
   "execution_count": 3,
   "metadata": {},
   "outputs": [
    {
     "name": "stdout",
     "output_type": "stream",
     "text": [
      "Dataframe shape: (249, 4) \n",
      "\n",
      "Dataframe columns: Index(['2 yr', '5 yr', '10 yr', '30 yr'], dtype='object') \n",
      "\n"
     ]
    },
    {
     "data": {
      "text/html": [
       "<div>\n",
       "<style scoped>\n",
       "    .dataframe tbody tr th:only-of-type {\n",
       "        vertical-align: middle;\n",
       "    }\n",
       "\n",
       "    .dataframe tbody tr th {\n",
       "        vertical-align: top;\n",
       "    }\n",
       "\n",
       "    .dataframe thead th {\n",
       "        text-align: right;\n",
       "    }\n",
       "</style>\n",
       "<table border=\"1\" class=\"dataframe\">\n",
       "  <thead>\n",
       "    <tr style=\"text-align: right;\">\n",
       "      <th></th>\n",
       "      <th>2 yr</th>\n",
       "      <th>5 yr</th>\n",
       "      <th>10 yr</th>\n",
       "      <th>30 yr</th>\n",
       "    </tr>\n",
       "    <tr>\n",
       "      <th>Date</th>\n",
       "      <th></th>\n",
       "      <th></th>\n",
       "      <th></th>\n",
       "      <th></th>\n",
       "    </tr>\n",
       "  </thead>\n",
       "  <tbody>\n",
       "    <tr>\n",
       "      <th>2018-01-02</th>\n",
       "      <td>1.92</td>\n",
       "      <td>2.25</td>\n",
       "      <td>2.46</td>\n",
       "      <td>2.81</td>\n",
       "    </tr>\n",
       "    <tr>\n",
       "      <th>2018-01-03</th>\n",
       "      <td>1.94</td>\n",
       "      <td>2.25</td>\n",
       "      <td>2.44</td>\n",
       "      <td>2.78</td>\n",
       "    </tr>\n",
       "    <tr>\n",
       "      <th>2018-01-04</th>\n",
       "      <td>1.96</td>\n",
       "      <td>2.27</td>\n",
       "      <td>2.46</td>\n",
       "      <td>2.79</td>\n",
       "    </tr>\n",
       "    <tr>\n",
       "      <th>2018-01-05</th>\n",
       "      <td>1.96</td>\n",
       "      <td>2.29</td>\n",
       "      <td>2.47</td>\n",
       "      <td>2.81</td>\n",
       "    </tr>\n",
       "    <tr>\n",
       "      <th>2018-01-08</th>\n",
       "      <td>1.96</td>\n",
       "      <td>2.29</td>\n",
       "      <td>2.49</td>\n",
       "      <td>2.81</td>\n",
       "    </tr>\n",
       "  </tbody>\n",
       "</table>\n",
       "</div>"
      ],
      "text/plain": [
       "            2 yr  5 yr  10 yr  30 yr\n",
       "Date                                \n",
       "2018-01-02  1.92  2.25   2.46   2.81\n",
       "2018-01-03  1.94  2.25   2.44   2.78\n",
       "2018-01-04  1.96  2.27   2.46   2.79\n",
       "2018-01-05  1.96  2.29   2.47   2.81\n",
       "2018-01-08  1.96  2.29   2.49   2.81"
      ]
     },
     "execution_count": 3,
     "metadata": {},
     "output_type": "execute_result"
    }
   ],
   "source": [
    "# select subset of columns\n",
    "ls_cols_select = ['Date', '2 yr', '5 yr', '10 yr', '30 yr']\n",
    "\n",
    "# create new dataframe with select columns\n",
    "df_yield_curve_select = df_yield_curve[ls_cols_select]\n",
    "df_yield_curve_select = df_yield_curve_select.set_index('Date')\n",
    "\n",
    "print(f'Dataframe shape: {df_yield_curve_select.shape} \\n')\n",
    "print(f'Dataframe columns: {df_yield_curve_select.columns} \\n')\n",
    "\n",
    "df_yield_curve_select.head()"
   ]
  },
  {
   "cell_type": "code",
   "execution_count": 4,
   "metadata": {},
   "outputs": [
    {
     "name": "stderr",
     "output_type": "stream",
     "text": [
      "/home/peter/anaconda3/lib/python3.7/site-packages/pandas/plotting/_converter.py:129: FutureWarning: Using an implicitly registered datetime converter for a matplotlib plotting method. The converter was registered by pandas on import. Future versions of pandas will require you to explicitly register matplotlib converters.\n",
      "\n",
      "To register the converters:\n",
      "\t>>> from pandas.plotting import register_matplotlib_converters\n",
      "\t>>> register_matplotlib_converters()\n",
      "  warnings.warn(msg, FutureWarning)\n"
     ]
    },
    {
     "data": {
      "image/png": "[encoded data removed]",
      "text/plain": [
       "<Figure size 576x360 with 1 Axes>"
      ]
     },
     "metadata": {
      "needs_background": "light"
     },
     "output_type": "display_data"
    },
    {
     "name": "stdout",
     "output_type": "stream",
     "text": [
      "\n"
     ]
    }
   ],
   "source": [
    "# ==================================================================================================\n",
    "# Line plot, including adjusting x-axis density\n",
    "# https://stackoverflow.com/questions/63218645/lowering-the-x-axis-value-density-for-dates-on-a-seaborn-line-plot-updated\n",
    "# ==================================================================================================\n",
    "\n",
    "fig, ax = plt.subplots(figsize = (8, 5))\n",
    "\n",
    "sns.lineplot(ax = ax, data=df_yield_curve_select)\n",
    "\n",
    "# specify the position of the major ticks \n",
    "ax.xaxis.set_major_locator(md.MonthLocator(bymonthday = 1))\n",
    "# specify the format of the labels as 'year-month-day'\n",
    "ax.xaxis.set_major_formatter(md.DateFormatter('%Y-%m-%d'))\n",
    "# (optional) rotate by 90° the labels in order to improve their spacing\n",
    "plt.setp(ax.xaxis.get_majorticklabels(), rotation = 90)\n",
    "\n",
    "# put a title\n",
    "plt.title(f\"`Treasury yields in Year: {str_year}`\")\n",
    "\n",
    "# Rotates X-Axis Ticks by 90-degrees\n",
    "plt.xticks(rotation = 90) \n",
    "\n",
    "# Put the legend out of the figure\n",
    "plt.legend(title=f\"Legend: Term\", bbox_to_anchor=(1.05, 1), loc=2, borderaxespad=0.)\n",
    "\n",
    "plt.show()\n",
    "print()"
   ]
  },
  {
   "cell_type": "code",
   "execution_count": null,
   "metadata": {},
   "outputs": [],
   "source": []
  }
 ],
 "metadata": {
  "kernelspec": {
   "display_name": "Python 3",
   "language": "python",
   "name": "python3"
  },
  "language_info": {
   "codemirror_mode": {
    "name": "ipython",
    "version": 3
   },
   "file_extension": ".py",
   "mimetype": "text/x-python",
   "name": "python",
   "nbconvert_exporter": "python",
   "pygments_lexer": "ipython3",
   "version": "3.7.3"
  }
 },
 "nbformat": 4,
 "nbformat_minor": 4
}
